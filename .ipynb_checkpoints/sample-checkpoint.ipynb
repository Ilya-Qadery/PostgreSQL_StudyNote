{
 "cells": [
  {
   "metadata": {},
   "cell_type": "markdown",
   "source": [
    "what is DB\n",
    "DB types\n",
    "No sql\n",
    "sql\n",
    "what is posgre\n",
    "why postgre\n",
    "data types\n",
    "what is table\n",
    "basic oporations\n",
    "Robust conditions (like Ilike)"
   ],
   "id": "b809e676e9fafd8a"
  },
  {
   "metadata": {},
   "cell_type": "markdown",
   "source": [
    "# 📘 PostgreSQL Study Notebook\n",
    "\n",
    "\n",
    "---\n",
    "\n",
    "## 📑 Table of Contents\n",
    "1. [What is a Database?](#what-is-a-database)\n",
    "2. [Database Types](#database-types)\n",
    "3. [NoSQL Overview](#nosql-overview)\n",
    "4. [What is SQL?](#what-is-sql)\n",
    "5. [What is PostgreSQL?](#what-is-postgresql)\n",
    "6. [Why PostgreSQL?](#why-postgresql)\n",
    "7. [PostgreSQL Data Types](#postgresql-data-types)\n",
    "8. [What is a Table?](#what-is-a-table)\n",
    "9. [Basic Operations (CRUD)](#basic-operations)\n",
    "10. [Robust Conditions (ILIKE etc.)](#robust-conditions)\n",
    "11. [Practice Exercises](#practice-exercises)\n",
    "\n",
    "---\n"
   ],
   "id": "b44821383e5b0ab9"
  },
  {
   "metadata": {},
   "cell_type": "markdown",
   "source": [
    "<a id=\"what-is-a-database\"></a>\n",
    "## 1️⃣ What is a Database?\n",
    "\n",
    "A **database (DB)** is an organized collection of data stored electronically.\n",
    "It allows efficient **storage, retrieval, and manipulation** of data.\n",
    "\n",
    "**Think of it like:**\n",
    "A digital notebook where every page (table) holds related data, and each row is a note entry.\n",
    "\n",
    "**Why use a DB?**\n",
    "- Fast access to structured data\n",
    "- Ensures data integrity\n",
    "- Supports multiple users safely\n",
    "\n",
    "💡 *Example:*\n",
    "Instagram uses databases to store user profiles, posts, likes, and comments.\n"
   ],
   "id": "8e82c6dcc2f16714"
  },
  {
   "metadata": {},
   "cell_type": "markdown",
   "source": [
    "<a id=\"database-types\"></a>\n",
    "## 2️⃣ Database Types\n",
    "\n",
    "Databases come in two main categories:\n",
    "\n",
    "### 🧱 Relational Databases (SQL)\n",
    "- Store data in **tables** (rows and columns)\n",
    "- Use **SQL (Structured Query Language)**\n",
    "- Examples: PostgreSQL, MySQL, SQLite\n",
    "\n",
    "### 🌐 Non-Relational Databases (NoSQL)\n",
    "- Store data in **documents**, **key-value pairs**, or **graphs**\n",
    "- More flexible, no fixed schema\n",
    "- Examples: MongoDB, Redis, Cassandra, Neo4j\n",
    "\n",
    "| Type | Structure | Example |\n",
    "|------|------------|---------|\n",
    "| Relational | Tables (rows & columns) | PostgreSQL |\n",
    "| Document | JSON-like documents | MongoDB |\n",
    "| Key-Value | Key → Value | Redis |\n",
    "| Graph | Nodes & Edges | Neo4j |\n"
   ],
   "id": "31fbad81225be863"
  },
  {
   "metadata": {},
   "cell_type": "markdown",
   "source": [
    "<a id=\"nosql-overview\"></a>\n",
    "## 3️⃣ NoSQL Overview\n",
    "\n",
    "**NoSQL** means *Not Only SQL*.\n",
    "It’s used for systems needing flexibility, scalability, or high write speed.\n",
    "\n",
    "**When to use NoSQL:**\n",
    "- Schema changes frequently\n",
    "- You need to store unstructured or JSON data\n",
    "- You want high scalability\n",
    "\n",
    "**Example (MongoDB-like JSON Document):**\n",
    "```json\n",
    "{\n",
    "  \"name\": \"Alice\",\n",
    "  \"age\": 24,\n",
    "  \"skills\": [\"Python\", \"SQL\"]\n",
    "}\n"
   ],
   "id": "8cb943eee3b730c6"
  },
  {
   "metadata": {},
   "cell_type": "markdown",
   "source": [
    "<a id=\"what-is-sql\"></a>\n",
    "## 4️⃣ What is SQL?\n",
    "\n",
    "**SQL** = *Structured Query Language* — the standard language for interacting with relational databases.\n",
    "\n",
    "You use SQL to:\n",
    "\n",
    "- **Create** structures (`CREATE TABLE ...`)\n",
    "- **Insert** data (`INSERT INTO ...`)\n",
    "- **Read / Query** data (`SELECT ... FROM ... WHERE ...`)\n",
    "- **Update** rows (`UPDATE ... SET ... WHERE ...`)\n",
    "- **Delete** rows (`DELETE FROM ... WHERE ...`)\n",
    "\n",
    "**Quick examples (short inline):**\n",
    "- Create table: `CREATE TABLE users (id SERIAL PRIMARY KEY, name VARCHAR(50), age INT);`\n",
    "- Insert: `INSERT INTO users (name, age) VALUES ('Alice', 25);`\n",
    "- Select: `SELECT * FROM users WHERE age > 20;`\n",
    "\n",
    "Now the following cell can be a dedicated SQL code cell with full examples and multi-statement demo.\n"
   ],
   "id": "1653b219d1e4f143"
  },
  {
   "metadata": {},
   "cell_type": "code",
   "outputs": [],
   "execution_count": null,
   "source": [
    "-- Create a table\n",
    "CREATE TABLE users (\n",
    "  id SERIAL PRIMARY KEY,\n",
    "  name VARCHAR(50),\n",
    "  age INT\n",
    ");\n",
    "\n",
    "-- Insert data\n",
    "INSERT INTO users (name, age)\n",
    "VALUES ('Alice', 25), ('Bob', 30);\n",
    "\n",
    "-- Read data\n",
    "SELECT * FROM users;\n",
    "\n",
    "-- Update data\n",
    "UPDATE users SET age = 26 WHERE name = 'Alice';\n",
    "\n",
    "-- Delete data\n",
    "DELETE FROM users WHERE name = 'Bob';\n"
   ],
   "id": "b0d91b77eab9922e"
  },
  {
   "metadata": {},
   "cell_type": "markdown",
   "source": [
    "<a id=\"what-is-postgresql\"></a>\n",
    "## 5️⃣ What is PostgreSQL?\n",
    "\n",
    "**PostgreSQL** (often called *Postgres*) is an **open-source, object-relational database system**.\n",
    "\n",
    "**Highlights:**\n",
    "- Free and community maintained\n",
    "- Powerful query engine\n",
    "- Extensible (supports JSON, arrays, custom data types)\n",
    "- Fully ACID compliant (safe & reliable)\n",
    "\n",
    "**Used by:**\n",
    "Instagram, Spotify, Reddit, and many major companies.\n"
   ],
   "id": "a16e9f5dc928ac7f"
  },
  {
   "metadata": {},
   "cell_type": "markdown",
   "source": [
    "<a id=\"why-postgresql\"></a>\n",
    "## 6️⃣ Why PostgreSQL?\n",
    "\n",
    "| Reason | Description |\n",
    "|--------|--------------|\n",
    "|  Advanced | Supports JSONB, full-text search, window functions |\n",
    "|  Reliable | ACID transactions ensure data safety |\n",
    "|  Popular | Used by many large-scale systems |\n",
    "|  Extensible | Allows custom types, functions, and operators |\n",
    "\n",
    "Here’s an example of PostgreSQL’s JSONB power 👇\n"
   ],
   "id": "622432fcbecff588"
  },
  {
   "metadata": {},
   "cell_type": "code",
   "outputs": [],
   "execution_count": null,
   "source": [
    "-- Using JSONB in PostgreSQL\n",
    "CREATE TABLE profiles (\n",
    "  id SERIAL PRIMARY KEY,\n",
    "  info JSONB\n",
    ");\n",
    "\n",
    "INSERT INTO profiles (info)\n",
    "VALUES ('{\"name\": \"Ilya\", \"skills\": [\"Python\", \"PostgreSQL\"]}');\n",
    "\n",
    "SELECT info->>'name' AS username\n",
    "FROM profiles;\n"
   ],
   "id": "60c39b64a2febe8d"
  },
  {
   "metadata": {},
   "cell_type": "markdown",
   "source": [
    "<a id=\"postgresql-data-types\"></a>\n",
    "## 7️⃣ PostgreSQL Data Types\n",
    "\n",
    "PostgreSQL supports a wide variety of data types:\n",
    "\n",
    "| Category | Examples |\n",
    "|-----------|-----------|\n",
    "| Numeric | `INT`, `BIGINT`, `DECIMAL`, `NUMERIC` |\n",
    "| Character | `CHAR`, `VARCHAR`, `TEXT` |\n",
    "| Boolean | `TRUE`, `FALSE` |\n",
    "| Date/Time | `DATE`, `TIME`, `TIMESTAMP` |\n",
    "| JSON / Array | `JSON`, `JSONB`, `ARRAY` |\n",
    "\n",
    "Example table 👇\n"
   ],
   "id": "6604dcb496e3dc4d"
  },
  {
   "metadata": {},
   "cell_type": "code",
   "outputs": [],
   "execution_count": null,
   "source": [
    "CREATE TABLE demo_types (\n",
    "  id SERIAL PRIMARY KEY,\n",
    "  username VARCHAR(50),\n",
    "  active BOOLEAN,\n",
    "  created_at TIMESTAMP DEFAULT NOW(),\n",
    "  meta JSONB\n",
    ");\n",
    "\n",
    "INSERT INTO demo_types (username, active, meta)\n",
    "VALUES ('Lina', TRUE, '{\"country\": \"NL\"}');\n",
    "\n",
    "SELECT * FROM demo_types;\n"
   ],
   "id": "f5fd0041b046e596"
  },
  {
   "metadata": {},
   "cell_type": "markdown",
   "source": "",
   "id": "c620593447cb3b3c"
  }
 ],
 "metadata": {
  "kernelspec": {
   "display_name": "Python 3",
   "language": "python",
   "name": "python3"
  },
  "language_info": {
   "codemirror_mode": {
    "name": "ipython",
    "version": 2
   },
   "file_extension": ".py",
   "mimetype": "text/x-python",
   "name": "python",
   "nbconvert_exporter": "python",
   "pygments_lexer": "ipython2",
   "version": "2.7.6"
  }
 },
 "nbformat": 4,
 "nbformat_minor": 5
}
